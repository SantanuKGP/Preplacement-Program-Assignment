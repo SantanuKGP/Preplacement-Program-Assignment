{
 "cells": [
  {
   "cell_type": "markdown",
   "id": "fb20b0c2",
   "metadata": {},
   "source": [
    "## Questions\n",
    "\n",
    "- [Question 1](#1)\n",
    "- [Question 2](#2)\n",
    "- [Question 3](#3)\n",
    "- [Question 4](#4)\n",
    "- [Question 5](#5)\n",
    "- [Question 6](#6)\n",
    "- [Question 7](#7)\n",
    "- [Question 8](#8)"
   ]
  },
  {
   "cell_type": "markdown",
   "id": "65e9651b",
   "metadata": {},
   "source": [
    "### Question 1 <a name='1'></a>\n",
    "Given two strings s and t, *determine if they are isomorphic*.\n",
    "\n",
    "Two strings s and t are isomorphic if the characters in s can be replaced to get t.\n",
    "\n",
    "All occurrences of a character must be replaced with another character while preserving the order of characters. No two characters may map to the same character, but a character may map to itself."
   ]
  },
  {
   "cell_type": "code",
   "execution_count": 1,
   "id": "8da54250",
   "metadata": {},
   "outputs": [],
   "source": [
    "# Question 01\n",
    "def isIsomorphic(s: str, t: str) -> bool:\n",
    "    def compiled(x):\n",
    "        tmp = []\n",
    "        for i in x:\n",
    "            if len(tmp)==0 or tmp[-1][0]!=i:\n",
    "                tmp.append([i,1])\n",
    "            elif tmp[-1][0]==i:\n",
    "                tmp[-1][1] += 1\n",
    "        return tmp\n",
    "    def cmp(x,y):\n",
    "        if len(x)!=len(y):\n",
    "            return False\n",
    "        mapper = dict()\n",
    "        rev_mapper = dict()\n",
    "        for i in range(len(x)):\n",
    "            if x[i][1]!=y[i][1]:\n",
    "                return False\n",
    "\n",
    "            if x[i][0] not in mapper.keys():\n",
    "                mapper[x[i][0]]=y[i][0]\n",
    "            else:\n",
    "                if mapper[x[i][0]]!=y[i][0]:\n",
    "                    return False\n",
    "\n",
    "            if y[i][0] not in rev_mapper.keys():\n",
    "                rev_mapper[y[i][0]]=x[i][0]\n",
    "            else:\n",
    "                if rev_mapper[y[i][0]]!=x[i][0]:\n",
    "                    return False\n",
    "        return True\n",
    "    # print(compiled(s))\n",
    "    # print(compiled(t))\n",
    "    if len(s)!=len(t):\n",
    "        return False\n",
    "    return cmp(compiled(s),compiled(t))"
   ]
  },
  {
   "cell_type": "code",
   "execution_count": 2,
   "id": "e1b1d6aa",
   "metadata": {},
   "outputs": [
    {
     "data": {
      "text/plain": [
       "True"
      ]
     },
     "execution_count": 2,
     "metadata": {},
     "output_type": "execute_result"
    }
   ],
   "source": [
    "s = \"egg\"\n",
    "t = \"add\"\n",
    "isIsomorphic(s,t)"
   ]
  },
  {
   "cell_type": "markdown",
   "id": "5cc0290d",
   "metadata": {},
   "source": [
    "### Question 2 <a name='2'></a>\n",
    "Given a string num which represents an integer, return true *if* num *is a **strobogrammatic number***.\n",
    "\n",
    "A **strobogrammatic number** is a number that looks the same when rotated 180 degrees (looked at upside down)."
   ]
  },
  {
   "cell_type": "code",
   "execution_count": 3,
   "id": "ebd94634",
   "metadata": {},
   "outputs": [],
   "source": [
    "# Question 02\n",
    "def isStrobogrammatic(num: str) -> bool:\n",
    "    n=len(num)\n",
    "    for i in range(n//2+1):\n",
    "        if num[i]=='6' and num[-(i+1)]=='9':\n",
    "            continue\n",
    "        elif num[i]==num[-(i+1)] and (num[i]=='0' or num[i]=='1' or num[i]=='8'):\n",
    "            continue\n",
    "        elif num[i]=='9' and num[-(i+1)]=='6':\n",
    "            continue\n",
    "        else:\n",
    "            return False\n",
    "    return True"
   ]
  },
  {
   "cell_type": "code",
   "execution_count": 4,
   "id": "899e99e4",
   "metadata": {},
   "outputs": [
    {
     "data": {
      "text/plain": [
       "True"
      ]
     },
     "execution_count": 4,
     "metadata": {},
     "output_type": "execute_result"
    }
   ],
   "source": [
    "num = '6969'\n",
    "isStrobogrammatic(num)"
   ]
  },
  {
   "cell_type": "markdown",
   "id": "4ea9c64e",
   "metadata": {},
   "source": [
    "### Question 3 <a name='3'></a>\n",
    "Given two non-negative integers, num1 and num2 represented as string, return *the sum of* num1 *and* num2 *as a string*.\n",
    "\n",
    "You must solve the problem without using any built-in library for handling large integers (such as BigInteger). You must also not convert the inputs to integers directly."
   ]
  },
  {
   "cell_type": "code",
   "execution_count": 5,
   "id": "0b1d70fa",
   "metadata": {},
   "outputs": [],
   "source": [
    "# Question-3\n",
    "def addStrings(num1: str, num2: str) -> str:\n",
    "    a = list(reversed(num1))\n",
    "    b = list(reversed(num2))\n",
    "    result = []\n",
    "    curry = 0\n",
    "    j = min(len(a), len(b))\n",
    "    for i in range(j):\n",
    "        s = (ord(a[i])-ord('0')+ord(b[i])-ord('0')+curry)%10\n",
    "        curry = (ord(a[i])-ord('0')+ord(b[i])-ord('0')+curry)//10\n",
    "        result.append(str(s))\n",
    "\n",
    "    for i in range(j,len(a)):\n",
    "        s = (ord(a[i])-ord('0')+curry)%10\n",
    "        curry = (ord(a[i])-ord('0')+curry)//10\n",
    "        result.append(str(s))\n",
    "\n",
    "    for i in range(j,len(b)):\n",
    "        s = (ord(b[i])-ord('0')+curry)%10\n",
    "        curry = (ord(b[i])-ord('0')+curry)//10\n",
    "        result.append(str(s))\n",
    "    if curry:\n",
    "        result.append(str(curry))\n",
    "    return \"\".join(reversed(result))\n"
   ]
  },
  {
   "cell_type": "code",
   "execution_count": 6,
   "id": "8bd05e25",
   "metadata": {},
   "outputs": [
    {
     "data": {
      "text/plain": [
       "'1010'"
      ]
     },
     "execution_count": 6,
     "metadata": {},
     "output_type": "execute_result"
    }
   ],
   "source": [
    "addStrings('999','11')"
   ]
  },
  {
   "cell_type": "markdown",
   "id": "d183a3fe",
   "metadata": {},
   "source": [
    "### Question 4 <a name='4'></a>\n",
    "Given a string s, reverse the order of characters in each word within a sentence while still preserving whitespace and initial word order."
   ]
  },
  {
   "cell_type": "code",
   "execution_count": 7,
   "id": "e6204ac5",
   "metadata": {},
   "outputs": [],
   "source": [
    "# Question-4\n",
    "\n",
    "def reverseWords(s: str) -> str:\n",
    "    return \" \".join(map(lambda x: x[::-1], s.split()))"
   ]
  },
  {
   "cell_type": "code",
   "execution_count": 8,
   "id": "d85f2dc2",
   "metadata": {},
   "outputs": [
    {
     "data": {
      "text/plain": [
       "\"s'teL ekat edoCteeL tsetnoc\""
      ]
     },
     "execution_count": 8,
     "metadata": {},
     "output_type": "execute_result"
    }
   ],
   "source": [
    "s = \"Let's take LeetCode contest\"\n",
    "reverseWords(s)"
   ]
  },
  {
   "cell_type": "markdown",
   "id": "8b25ceb0",
   "metadata": {},
   "source": [
    "### Question 5 <a name='5'></a>\n",
    "Given a string s and an integer k, reverse the first k characters for every 2k characters counting from the start of the string.\n",
    "\n",
    "If there are fewer than k characters left, reverse all of them. If there are less than 2k but greater than or equal to k characters, then reverse the first k characters and leave the other as original."
   ]
  },
  {
   "cell_type": "code",
   "execution_count": 9,
   "id": "f34199b3",
   "metadata": {},
   "outputs": [],
   "source": [
    "# Question-5\n",
    "\n",
    "def reverseStr(s: str, k: int) -> str:\n",
    "    index = 0\n",
    "    ans = \"\"\n",
    "    while index<len(s):\n",
    "        try:\n",
    "            ans += s[index:index+k][::-1]+s[index+k:index+2*k]\n",
    "            index += 2*k\n",
    "        except:\n",
    "            if len(s)-index<=k:\n",
    "                ans += s[index:][::-1]\n",
    "            else:\n",
    "                ans += s[index:index+k][::-1]+s[index+k:]\n",
    "\n",
    "            index += 2*k\n",
    "    return ans"
   ]
  },
  {
   "cell_type": "code",
   "execution_count": 10,
   "id": "39b77853",
   "metadata": {},
   "outputs": [
    {
     "data": {
      "text/plain": [
       "'bacdfeg'"
      ]
     },
     "execution_count": 10,
     "metadata": {},
     "output_type": "execute_result"
    }
   ],
   "source": [
    "s = \"abcdefg\"\n",
    "k = 2\n",
    "reverseStr(s,k)"
   ]
  },
  {
   "cell_type": "markdown",
   "id": "bdcf3568",
   "metadata": {},
   "source": [
    "### Question 6 <a name='6'></a>\n",
    "Given two strings s and goal, return true *if and only if* s *can become* goal *after some number of **shifts** on* s.\n",
    "\n",
    "A **shift** on s consists of moving the leftmost character of s to the rightmost position.\n",
    "\n",
    "- For example, if s = \"abcde\", then it will be \"bcdea\" after one shift."
   ]
  },
  {
   "cell_type": "code",
   "execution_count": 11,
   "id": "7410c3ba",
   "metadata": {},
   "outputs": [],
   "source": [
    "# Question-6\n",
    "\n",
    "def rotateString(s: str, goal: str) -> bool:\n",
    "    if len(s)!=len(goal):\n",
    "        return False\n",
    "\n",
    "    for i in range(len(goal)):\n",
    "        if goal[i]==s[0] and goal[i:]+goal[:i]==s:\n",
    "            return True\n",
    "    return False"
   ]
  },
  {
   "cell_type": "code",
   "execution_count": 12,
   "id": "fdb89a58",
   "metadata": {},
   "outputs": [
    {
     "data": {
      "text/plain": [
       "True"
      ]
     },
     "execution_count": 12,
     "metadata": {},
     "output_type": "execute_result"
    }
   ],
   "source": [
    "s = \"abcde\" \n",
    "goal = \"cdeab\"\n",
    "rotateString(s,goal)"
   ]
  },
  {
   "cell_type": "markdown",
   "id": "651f5ab0",
   "metadata": {},
   "source": [
    "### Question 7 <a name='7'></a>\n",
    "Given two strings s and t, return true *if they are equal when both are typed into empty text editors*. '#' means a backspace character.\n",
    "\n",
    "Note that after backspacing an empty text, the text will continue empty."
   ]
  },
  {
   "cell_type": "code",
   "execution_count": 13,
   "id": "a953d6d5",
   "metadata": {},
   "outputs": [],
   "source": [
    "# Question-7\n",
    "\n",
    "def backspaceCompare(s: str, t: str) -> bool:\n",
    "    arr1= []\n",
    "    arr2= []\n",
    "    for i in s:\n",
    "        if i=='#' and len(arr1)>0:\n",
    "            arr1.pop()\n",
    "        elif i!='#':\n",
    "            arr1.append(i)\n",
    "    for i in t:\n",
    "        if i=='#' and len(arr2)>0:\n",
    "            arr2.pop()\n",
    "        elif i!='#':\n",
    "            arr2.append(i)\n",
    "    # print(arr1)\n",
    "    # print(arr2)\n",
    "    return arr1==arr2"
   ]
  },
  {
   "cell_type": "code",
   "execution_count": 14,
   "id": "8c4147a7",
   "metadata": {},
   "outputs": [
    {
     "data": {
      "text/plain": [
       "True"
      ]
     },
     "execution_count": 14,
     "metadata": {},
     "output_type": "execute_result"
    }
   ],
   "source": [
    "s = \"ab#c\" \n",
    "t = \"ad#c\"\n",
    "backspaceCompare(s,t)"
   ]
  },
  {
   "cell_type": "markdown",
   "id": "88903a53",
   "metadata": {},
   "source": [
    "### Question 8 <a name='8'></a>\n",
    "You are given an array coordinates, coordinates[i] = [x, y], where [x, y] represents the coordinate of a point. Check if these points make a straight line in the XY plane."
   ]
  },
  {
   "cell_type": "code",
   "execution_count": 15,
   "id": "075cd040",
   "metadata": {},
   "outputs": [],
   "source": [
    "# Question-8\n",
    "\n",
    "def checkStraightLine(coordinates: list[list[int]]) -> bool:\n",
    "    pos = coordinates\n",
    "    try:\n",
    "        slope = (pos[1][1]-pos[0][1])/(pos[1][0]-pos[0][0])\n",
    "        intercept = pos[0][1]-slope*pos[0][0]\n",
    "        for i in range(2,len(pos)):\n",
    "            if round(slope*pos[i][0]+intercept-pos[i][1],6)!=0.0:\n",
    "                return False\n",
    "        return True\n",
    "    except:\n",
    "        x = pos[0][0]\n",
    "        for i in range(2,len(pos)):\n",
    "            if pos[i][0]!=x:\n",
    "                return False\n",
    "        return True"
   ]
  },
  {
   "cell_type": "code",
   "execution_count": 16,
   "id": "ee3a7a61",
   "metadata": {},
   "outputs": [
    {
     "data": {
      "text/plain": [
       "True"
      ]
     },
     "execution_count": 16,
     "metadata": {},
     "output_type": "execute_result"
    }
   ],
   "source": [
    "coordinates = [[1,2],[2,3],[3,4],[4,5],[5,6],[6,7]]\n",
    "checkStraightLine(coordinates)"
   ]
  }
 ],
 "metadata": {
  "kernelspec": {
   "display_name": "Python 3 (ipykernel)",
   "language": "python",
   "name": "python3"
  },
  "language_info": {
   "codemirror_mode": {
    "name": "ipython",
    "version": 3
   },
   "file_extension": ".py",
   "mimetype": "text/x-python",
   "name": "python",
   "nbconvert_exporter": "python",
   "pygments_lexer": "ipython3",
   "version": "3.9.15"
  }
 },
 "nbformat": 4,
 "nbformat_minor": 5
}
