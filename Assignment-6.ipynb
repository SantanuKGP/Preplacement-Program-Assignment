{
 "cells": [
  {
   "cell_type": "markdown",
   "id": "c92bea48",
   "metadata": {},
   "source": [
    "## Questions\n",
    "\n",
    "- [Question 1](#1)\n",
    "- [Question 2](#2)\n",
    "- [Question 3](#3)\n",
    "- [Question 4](#4)\n",
    "- [Question 5](#5)\n",
    "- [Question 6](#6)\n",
    "- [Question 7](#7)\n",
    "- [Question 8](#8)"
   ]
  },
  {
   "cell_type": "code",
   "execution_count": 1,
   "id": "03dae7ac",
   "metadata": {},
   "outputs": [
    {
     "name": "stdout",
     "output_type": "stream",
     "text": [
      "Python 3.9.15\n"
     ]
    }
   ],
   "source": [
    "!python --version"
   ]
  },
  {
   "cell_type": "markdown",
   "id": "b87f8431",
   "metadata": {},
   "source": [
    "### Question 1 <a name='1'></a>\n",
    "A permutation perm of n + 1 integers of all the integers in the range [0, n] can be represented as a string s of length n where:\n",
    "\n",
    "- s[i] == 'I' if perm[i] < perm[i + 1], and\n",
    "- s[i] == 'D' if perm[i] > perm[i + 1].\n",
    "\n",
    "Given a string s, reconstruct the permutation perm and return it. If there are multiple valid permutations perm, return **any of them**."
   ]
  },
  {
   "cell_type": "code",
   "execution_count": 2,
   "id": "0fa6dd5f",
   "metadata": {},
   "outputs": [],
   "source": [
    "def diStringMatch(s: str) -> list[int]:\n",
    "\n",
    "    n = len(s)\n",
    "    if s[0]=='I':\n",
    "        ans = [0]*(n+1)\n",
    "        for i in range(len(s)-1,-1,-1):\n",
    "            if s[i]=='I':\n",
    "                ans[i+1]=n\n",
    "                n -= 1\n",
    "        # print(ans)\n",
    "        for i in range(len(s)):\n",
    "            if s[i]=='D':\n",
    "                ans[i+1]=n\n",
    "                n -= 1\n",
    "        return ans\n",
    "    else:\n",
    "        ans = [n]*(n+1)\n",
    "        p = 0\n",
    "        for i in range(len(s)-1,-1,-1):\n",
    "            if s[i]=='D':\n",
    "                ans[i+1]=p\n",
    "                p += 1\n",
    "        # print(ans)\n",
    "        for i in range(len(s)):\n",
    "            if s[i]=='I':\n",
    "                ans[i+1]=p\n",
    "                p += 1\n",
    "        return ans"
   ]
  },
  {
   "cell_type": "code",
   "execution_count": 3,
   "id": "af19bf0a",
   "metadata": {},
   "outputs": [
    {
     "data": {
      "text/plain": [
       "[3, 1, 2, 0]"
      ]
     },
     "execution_count": 3,
     "metadata": {},
     "output_type": "execute_result"
    }
   ],
   "source": [
    "diStringMatch('DID')"
   ]
  },
  {
   "cell_type": "code",
   "execution_count": 4,
   "id": "8fa8b754",
   "metadata": {},
   "outputs": [],
   "source": [
    "def diStringMatch(s: str) -> list[int]:\n",
    "    lo, hi = 0, len(s)\n",
    "    ans = []\n",
    "    for i in s:\n",
    "        if i=='I':\n",
    "            ans.append(lo)\n",
    "            lo += 1\n",
    "        else:\n",
    "            ans.append(hi)\n",
    "            hi -= 1\n",
    "    return ans + [hi]"
   ]
  },
  {
   "cell_type": "code",
   "execution_count": 5,
   "id": "cf76fb48",
   "metadata": {},
   "outputs": [
    {
     "data": {
      "text/plain": [
       "[3, 0, 2, 1]"
      ]
     },
     "execution_count": 5,
     "metadata": {},
     "output_type": "execute_result"
    }
   ],
   "source": [
    "diStringMatch('DID')"
   ]
  },
  {
   "cell_type": "code",
   "execution_count": 6,
   "id": "22ae3cfd",
   "metadata": {},
   "outputs": [
    {
     "data": {
      "text/plain": [
       "[6, 0, 5, 1, 2, 3, 4]"
      ]
     },
     "execution_count": 6,
     "metadata": {},
     "output_type": "execute_result"
    }
   ],
   "source": [
    "diStringMatch('DIDIII')"
   ]
  },
  {
   "cell_type": "markdown",
   "id": "898d26ab",
   "metadata": {},
   "source": [
    "### Question 2 <a name='2'></a>\n",
    "You are given an m x n integer matrix matrix with the following two properties:\n",
    "\n",
    "- Each row is sorted in non-decreasing order.\n",
    "- The first integer of each row is greater than the last integer of the previous row.\n",
    "\n",
    "Given an integer target, return true *if* target *is in* matrix *or* false *otherwise*.\n",
    "\n",
    "You must write a solution in O(log(m * n)) time complexity."
   ]
  },
  {
   "cell_type": "code",
   "execution_count": 7,
   "id": "c000a7c3",
   "metadata": {},
   "outputs": [],
   "source": [
    "def searchMatrix(matrix: list[list[int]], target: int) -> bool:\n",
    "    def binarysearch(nums, start, end):\n",
    "        if start>end:\n",
    "            return False\n",
    "        mid = (start+end)//2\n",
    "        if nums[mid] == target:\n",
    "            return True\n",
    "        elif nums[mid]>target:\n",
    "            return binarysearch(nums,start,mid-1)\n",
    "        else:\n",
    "            return binarysearch(nums, mid+1, end)\n",
    "    nums = sum(matrix,[])\n",
    "    return binarysearch(nums, 0, len(nums)-1)"
   ]
  },
  {
   "cell_type": "code",
   "execution_count": 8,
   "id": "400867be",
   "metadata": {},
   "outputs": [
    {
     "data": {
      "text/plain": [
       "True"
      ]
     },
     "execution_count": 8,
     "metadata": {},
     "output_type": "execute_result"
    }
   ],
   "source": [
    "matrix = [[1,3,5,7],[10,11,16,20],[23,30,34,60]] \n",
    "target = 3\n",
    "searchMatrix(matrix,target)"
   ]
  },
  {
   "cell_type": "markdown",
   "id": "8bca1c0d",
   "metadata": {},
   "source": [
    "### Question 3 <a name='3'></a>\n",
    "Given an array of integers arr, return *true if and only if it is a valid mountain array*.\n",
    "\n",
    "Recall that arr is a mountain array if and only if:\n",
    "\n",
    "- arr.length >= 3\n",
    "- There exists some i with 0 < i < arr.length - 1 such that:\n",
    "    - arr[0] < arr[1] < ... < arr[i - 1] < arr[i]\n",
    "    - arr[i] > arr[i + 1] > ... > arr[arr.length - 1]"
   ]
  },
  {
   "cell_type": "code",
   "execution_count": 9,
   "id": "f65aaccd",
   "metadata": {},
   "outputs": [],
   "source": [
    "def validMountainArray(arr: list[int]) -> bool:\n",
    "    if len(arr)<3:\n",
    "        return False\n",
    "    count_inc = 0\n",
    "    count_dec = 0\n",
    "    j = 0\n",
    "    for i in range(len(arr)-1):\n",
    "        if arr[i]<arr[i+1]:\n",
    "            count_inc += 1\n",
    "        else:\n",
    "            j = i\n",
    "            break\n",
    "    for i in range(j,len(arr)-1):\n",
    "        if arr[i]>arr[i+1]:\n",
    "            count_dec += 1\n",
    "        else :\n",
    "            break\n",
    "    if(count_inc + count_dec + 1 == len(arr) and count_inc*count_dec!=0):\n",
    "        return True\n",
    "    return False"
   ]
  },
  {
   "cell_type": "code",
   "execution_count": 10,
   "id": "e6d930e2",
   "metadata": {},
   "outputs": [
    {
     "data": {
      "text/plain": [
       "True"
      ]
     },
     "execution_count": 10,
     "metadata": {},
     "output_type": "execute_result"
    }
   ],
   "source": [
    "arr = [0,3,2,1]\n",
    "validMountainArray(arr)"
   ]
  },
  {
   "cell_type": "markdown",
   "id": "1dcc64bf",
   "metadata": {},
   "source": [
    "### Question 4 <a name='4'></a>\n",
    "\n",
    "Given a binary array nums, return the maximum length of a contiguous subarray with an equal number of 0 and 1."
   ]
  },
  {
   "cell_type": "code",
   "execution_count": 11,
   "id": "b8940cd1",
   "metadata": {},
   "outputs": [],
   "source": [
    "def findMaxLength(nums: list[int]) -> int:\n",
    "    total=0\n",
    "    m = dict()\n",
    "    # insert the case for 0\n",
    "    m[0]=[-1]\n",
    "    for index,i in enumerate(nums):\n",
    "        total += 1 if i==1 else -1\n",
    "        if total not in m.keys():\n",
    "            m[total]=[index]\n",
    "        else:\n",
    "            m[total].append(index)\n",
    "    maxi = 0\n",
    "    for i in m.keys():\n",
    "        if len(m[i])>1:\n",
    "            maxi=max(m[i][-1]-m[i][0],maxi)\n",
    "    return maxi"
   ]
  },
  {
   "cell_type": "code",
   "execution_count": 12,
   "id": "39c02c15",
   "metadata": {},
   "outputs": [
    {
     "data": {
      "text/plain": [
       "4"
      ]
     },
     "execution_count": 12,
     "metadata": {},
     "output_type": "execute_result"
    }
   ],
   "source": [
    "nums = [0,1,0,1]\n",
    "findMaxLength(nums)"
   ]
  },
  {
   "cell_type": "markdown",
   "id": "243bc814",
   "metadata": {},
   "source": [
    "### Question 5 <a name='5'></a>\n",
    "The **product sum** of two equal-length arrays a and b is equal to the sum of a[i] * b[i] for all 0 <= i < a.length (**0-indexed**).\n",
    "\n",
    "- For example, if a = [1,2,3,4] and b = [5,2,3,1], the **product sum** would be 1*5 + 2*2 + 3*3 + 4*1 = 22.\n",
    "\n",
    "Given two arrays nums1 and nums2 of length n, return *the **minimum product sum** if you are allowed to **rearrange** the **order** of the elements in* nums1."
   ]
  },
  {
   "cell_type": "code",
   "execution_count": 13,
   "id": "c010cfde",
   "metadata": {},
   "outputs": [],
   "source": [
    "def minProductSum(nums1: list[int], nums2: list[int])->int:\n",
    "    nums1.sort()\n",
    "    nums2.sort(reverse=True)\n",
    "    return sum(map(lambda x: x[0]*x[1], zip(nums1, nums2)))"
   ]
  },
  {
   "cell_type": "code",
   "execution_count": 14,
   "id": "a6b28f6b",
   "metadata": {},
   "outputs": [
    {
     "data": {
      "text/plain": [
       "40"
      ]
     },
     "execution_count": 14,
     "metadata": {},
     "output_type": "execute_result"
    }
   ],
   "source": [
    "nums1 = [5,3,4,2]\n",
    "nums2 = [4,2,2,5]\n",
    "minProductSum(nums1, nums2)"
   ]
  },
  {
   "cell_type": "markdown",
   "id": "d1a0d99b",
   "metadata": {},
   "source": [
    "### Question 6 <a name='6'></a>\n",
    "An integer array original is transformed into a **doubled** array changed by appending **twice the value** of every element in original, and then randomly **shuffling** the resulting array.\n",
    "\n",
    "Given an array changed, return original *if* changed *is a **doubled** array. If* changed *is not a **doubled** array, return an empty array. The elements in* original *may be returned in **any** order*."
   ]
  },
  {
   "cell_type": "code",
   "execution_count": 15,
   "id": "bc6e3340",
   "metadata": {},
   "outputs": [],
   "source": [
    "def findOriginalArray(changed: list[int]) -> list[int]:\n",
    "    n = len(changed)\n",
    "    access = dict()\n",
    "    access[0] = 0\n",
    "    for i in changed:\n",
    "        if i not in access.keys():\n",
    "            access[i]=1\n",
    "        else:\n",
    "            access[i]+=1\n",
    "#     print(access)\n",
    "    result = []\n",
    "    for i in sorted(changed):\n",
    "        if (2*i) in access.keys() and access[i]>0 and access[2*i]>0 and i!=0:\n",
    "            result.append(i)\n",
    "            access[i*2]-=1\n",
    "            access[i]-=1\n",
    "    if access[0]%2==0:\n",
    "        result.extend([0 for _ in range(access[0]//2)])\n",
    "    else:\n",
    "        return []\n",
    "#     print(result)\n",
    "    if len(result)*2==n:\n",
    "        return result\n",
    "    else:\n",
    "        return []"
   ]
  },
  {
   "cell_type": "code",
   "execution_count": 16,
   "id": "372f1f87",
   "metadata": {},
   "outputs": [
    {
     "data": {
      "text/plain": [
       "[1, 3, 4]"
      ]
     },
     "execution_count": 16,
     "metadata": {},
     "output_type": "execute_result"
    }
   ],
   "source": [
    "changed = [1,3,4,2,6,8]\n",
    "findOriginalArray(changed)"
   ]
  },
  {
   "cell_type": "markdown",
   "id": "db6c6439",
   "metadata": {},
   "source": [
    "### Question 7 <a name='7'></a>\n",
    "Given a positive integer n, generate an n x n matrix filled with elements from 1 to n2 in spiral order."
   ]
  },
  {
   "cell_type": "code",
   "execution_count": 17,
   "id": "a492dc65",
   "metadata": {},
   "outputs": [],
   "source": [
    "def generateMatrix( n: int) -> list[list[int]]:\n",
    "    arr = [[-1]*n for _ in range(n)]\n",
    "    num = 1\n",
    "    i,j=0,0\n",
    "    while num<=n*n:\n",
    "        while(j<n and arr[i][j]==-1):\n",
    "            arr[i][j]= num\n",
    "            num += 1\n",
    "            j += 1\n",
    "        j -= 1\n",
    "        i += 1\n",
    "        while(i<n and arr[i][j]==-1):\n",
    "            arr[i][j] = num\n",
    "            num += 1\n",
    "            i += 1\n",
    "        i -= 1\n",
    "        j -= 1\n",
    "        while(j>=0 and arr[i][j]==-1):\n",
    "            arr[i][j] = num\n",
    "            num += 1\n",
    "            j -= 1\n",
    "        j += 1\n",
    "        i -= 1\n",
    "        while(i>=0 and arr[i][j]==-1):\n",
    "            arr[i][j]=num\n",
    "            num += 1\n",
    "            i -= 1\n",
    "        i += 1\n",
    "        j += 1\n",
    "    return arr"
   ]
  },
  {
   "cell_type": "code",
   "execution_count": 18,
   "id": "4e6cce2d",
   "metadata": {},
   "outputs": [
    {
     "data": {
      "text/plain": [
       "[[1, 2, 3], [8, 9, 4], [7, 6, 5]]"
      ]
     },
     "execution_count": 18,
     "metadata": {},
     "output_type": "execute_result"
    }
   ],
   "source": [
    "generateMatrix(3)"
   ]
  },
  {
   "cell_type": "code",
   "execution_count": 19,
   "id": "570b8ad5",
   "metadata": {},
   "outputs": [
    {
     "data": {
      "text/plain": [
       "[[1, 2, 3, 4], [12, 13, 14, 5], [11, 16, 15, 6], [10, 9, 8, 7]]"
      ]
     },
     "execution_count": 19,
     "metadata": {},
     "output_type": "execute_result"
    }
   ],
   "source": [
    "generateMatrix(4)"
   ]
  },
  {
   "cell_type": "markdown",
   "id": "98003345",
   "metadata": {},
   "source": [
    "### Question 8 <a name='8'></a>\n",
    "Given two sparse matrices mat1 of size m x k and mat2 of size k x n, return the result of mat1 x mat2. You may assume that multiplication is always possible."
   ]
  },
  {
   "cell_type": "code",
   "execution_count": 20,
   "id": "c3638bc7",
   "metadata": {},
   "outputs": [],
   "source": [
    "def multiply(mat1: list[list[int]], mat2: list[list[int]]) -> list[list[int]]:\n",
    "    ans = [ [0]*len(mat2[0]) for _ in range(len(mat1))]\n",
    "    for i in range(len(mat1)):\n",
    "        for j in range(len(mat2[0])):\n",
    "            for k in range(len(mat1[0])):\n",
    "                ans[i][j] += mat1[i][k]*mat2[k][j]\n",
    "    return ans"
   ]
  },
  {
   "cell_type": "code",
   "execution_count": 21,
   "id": "a2a20a70",
   "metadata": {},
   "outputs": [
    {
     "data": {
      "text/plain": [
       "[[7, 0, 0], [-7, 0, 3]]"
      ]
     },
     "execution_count": 21,
     "metadata": {},
     "output_type": "execute_result"
    }
   ],
   "source": [
    "mat1 = [[1,0,0],[-1,0,3]]\n",
    "mat2 = [[7,0,0],[0,0,0],[0,0,1]]\n",
    "multiply(mat1, mat2)"
   ]
  }
 ],
 "metadata": {
  "kernelspec": {
   "display_name": "Python 3 (ipykernel)",
   "language": "python",
   "name": "python3"
  },
  "language_info": {
   "codemirror_mode": {
    "name": "ipython",
    "version": 3
   },
   "file_extension": ".py",
   "mimetype": "text/x-python",
   "name": "python",
   "nbconvert_exporter": "python",
   "pygments_lexer": "ipython3",
   "version": "3.9.15"
  }
 },
 "nbformat": 4,
 "nbformat_minor": 5
}
