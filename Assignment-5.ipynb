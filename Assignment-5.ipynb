{
 "cells": [
  {
   "cell_type": "markdown",
   "id": "2e7bc39d",
   "metadata": {},
   "source": [
    "## Questions\n",
    "\n",
    "- [Question 1](#1)\n",
    "- [Question 2](#2)\n",
    "- [Question 3](#3)\n",
    "- [Question 4](#4)\n",
    "- [Question 5](#5)\n",
    "- [Question 6](#6)\n",
    "- [Question 7](#7)\n",
    "- [Question 8](#8)"
   ]
  },
  {
   "cell_type": "markdown",
   "id": "5b69fe04",
   "metadata": {},
   "source": [
    "### Question 1 <a name='1'></a>\n",
    "Convert 1D Array Into 2D Array\n",
    "\n",
    "You are given a **0-indexed** 1-dimensional (1D) integer array original, and two integers, m and n. You are tasked with creating a 2-dimensional (2D) array with  m rows and n columns using **all** the elements from original.\n",
    "\n",
    "The elements from indices 0 to n - 1 (**inclusive**) of original should form the first row of the constructed 2D array, the elements from indices n to 2 * n - 1 (**inclusive**) should form the second row of the constructed 2D array, and so on.\n",
    "\n",
    "Return *an* m x n *2D array constructed according to the above procedure, or an empty 2D array if it is impossible*."
   ]
  },
  {
   "cell_type": "code",
   "execution_count": 1,
   "id": "66867588",
   "metadata": {},
   "outputs": [],
   "source": [
    "def construct2DArray(original: list[int], m: int, n: int) -> list[list[int]]:\n",
    "    if m*n!=len(original):\n",
    "        return []\n",
    "    ans = [[-1]*n for _ in range(m)]\n",
    "    for i in range(len(original)):\n",
    "        ans[i//n][i%n]=original[i]\n",
    "    return ans"
   ]
  },
  {
   "cell_type": "code",
   "execution_count": 2,
   "id": "c3008bc6",
   "metadata": {},
   "outputs": [
    {
     "data": {
      "text/plain": [
       "[[1, 2], [3, 4]]"
      ]
     },
     "execution_count": 2,
     "metadata": {},
     "output_type": "execute_result"
    }
   ],
   "source": [
    "original = [1,2,3,4]\n",
    "m = 2\n",
    "n = 2\n",
    "construct2DArray(original, m, n)"
   ]
  },
  {
   "cell_type": "markdown",
   "id": "94ded167",
   "metadata": {},
   "source": [
    "### Question 2 <a name='2'></a>\n",
    "You have n coins and you want to build a staircase with these coins. The staircase consists of k rows where the ith row has exactly i coins. The last row of the staircase **may be** incomplete.\n",
    "\n",
    "Given the integer n, return *the number of **complete rows** of the staircase you will build*."
   ]
  },
  {
   "cell_type": "code",
   "execution_count": 3,
   "id": "e99a331e",
   "metadata": {},
   "outputs": [],
   "source": [
    "def arrangeCoins(n: int) -> int:\n",
    "    l = int((2*n)**0.5)\n",
    "    if l*(l+1)>2*n:\n",
    "        l -= 1\n",
    "    return l"
   ]
  },
  {
   "cell_type": "code",
   "execution_count": 4,
   "id": "1f622ae6",
   "metadata": {},
   "outputs": [
    {
     "data": {
      "text/plain": [
       "2"
      ]
     },
     "execution_count": 4,
     "metadata": {},
     "output_type": "execute_result"
    }
   ],
   "source": [
    "arrangeCoins(5)"
   ]
  },
  {
   "cell_type": "markdown",
   "id": "1e47238d",
   "metadata": {},
   "source": [
    "### Question 3 <a name='3'></a>\n",
    "Given an integer array nums sorted in non-decreasing order, return an array of the squares of each number sorted in non-decreasing order"
   ]
  },
  {
   "cell_type": "code",
   "execution_count": 5,
   "id": "8691ed37",
   "metadata": {},
   "outputs": [],
   "source": [
    "def sortedSquares(nums: list[int]) -> list[int]:\n",
    "    return sorted(map(lambda x:x**2, nums))"
   ]
  },
  {
   "cell_type": "code",
   "execution_count": 6,
   "id": "85f4160a",
   "metadata": {},
   "outputs": [
    {
     "data": {
      "text/plain": [
       "[0, 1, 9, 16, 100]"
      ]
     },
     "execution_count": 6,
     "metadata": {},
     "output_type": "execute_result"
    }
   ],
   "source": [
    "nums = [-4,-1,0,3,10]\n",
    "sortedSquares(nums)"
   ]
  },
  {
   "cell_type": "code",
   "execution_count": 7,
   "id": "c36559f1",
   "metadata": {},
   "outputs": [],
   "source": [
    "def sortedSquares(nums: list[int]) -> list[int]:\n",
    "    j = -2\n",
    "\n",
    "    for i in range(len(nums)):\n",
    "        if nums[i]>=0:\n",
    "            j = i\n",
    "            break\n",
    "    if j<0:\n",
    "        return list(map(lambda x: x**2, nums))[::-1]\n",
    "    i = j-1\n",
    "    ans = []\n",
    "    while i>=0 and j<len(nums):\n",
    "        if abs(nums[i])<abs(nums[j]):\n",
    "            ans.append(nums[i]**2)\n",
    "            i -= 1\n",
    "        else:\n",
    "            ans.append(nums[j]**2)\n",
    "            j += 1\n",
    "    while i>=0:\n",
    "        ans.append(nums[i]**2)\n",
    "        i -= 1\n",
    "\n",
    "    while j<len(nums):\n",
    "        ans.append(nums[j]**2)\n",
    "        j += 1\n",
    "        \n",
    "    return ans"
   ]
  },
  {
   "cell_type": "code",
   "execution_count": 8,
   "id": "6721b128",
   "metadata": {},
   "outputs": [
    {
     "data": {
      "text/plain": [
       "[0, 1, 9, 16, 100]"
      ]
     },
     "execution_count": 8,
     "metadata": {},
     "output_type": "execute_result"
    }
   ],
   "source": [
    "nums = [-4,-1,0,3,10]\n",
    "sortedSquares(nums)"
   ]
  },
  {
   "cell_type": "markdown",
   "id": "6a88a828",
   "metadata": {},
   "source": [
    "### Question 4 <a name='4'></a>\n",
    "Given two **0-indexed** integer arrays nums1 and nums2, return *a list* answer *of size* 2 *where:*\n",
    "\n",
    "- answer[0] *is a list of all **distinct** integers in* nums1 *which are **not** present in* nums2*.*\n",
    "- answer[1] *is a list of all **distinct** integers in* nums2 *which are **not** present in* nums1.\n",
    "\n",
    "**Note** that the integers in the lists may be returned in **any** order."
   ]
  },
  {
   "cell_type": "code",
   "execution_count": 9,
   "id": "03955aa4",
   "metadata": {},
   "outputs": [],
   "source": [
    "def findDifference(nums1: list[int], nums2: list[int]) -> list[list[int]]:\n",
    "        return [list(set(nums1).difference(nums2)), list(set(nums2).difference(nums1))]"
   ]
  },
  {
   "cell_type": "code",
   "execution_count": 10,
   "id": "4761d01a",
   "metadata": {},
   "outputs": [
    {
     "data": {
      "text/plain": [
       "[[1, 3], [4, 6]]"
      ]
     },
     "execution_count": 10,
     "metadata": {},
     "output_type": "execute_result"
    }
   ],
   "source": [
    "nums1 = [1,2,3] \n",
    "nums2 = [2,4,6]\n",
    "findDifference(nums1, nums2)"
   ]
  },
  {
   "cell_type": "markdown",
   "id": "832dde2c",
   "metadata": {},
   "source": [
    "### Question 5 <a name='5'></a>\n",
    "Given two integer arrays arr1 and arr2, and the integer d, *return the distance value between the two arrays*.\n",
    "\n",
    "The distance value is defined as the number of elements arr1[i] such that there is not any element arr2[j] where |arr1[i]-arr2[j]| <= d."
   ]
  },
  {
   "cell_type": "code",
   "execution_count": 11,
   "id": "1c9bb3f9",
   "metadata": {},
   "outputs": [],
   "source": [
    "def nearestIndex(nums:list[int],target:int)->int:\n",
    "    def search(nums, start, end):\n",
    "        if start>end:\n",
    "            return end\n",
    "        mid = (start+end)//2\n",
    "        if nums[mid]==target:\n",
    "            return mid\n",
    "        elif nums[mid]>target:\n",
    "            return search(nums,start,mid-1)\n",
    "        else:\n",
    "            return search(nums,mid+1,end)\n",
    "    return search(nums,0,len(nums)-1)\n",
    "\n",
    "def findTheDistanceValue(arr1: list[int], arr2: list[int], d: int) -> int:\n",
    "    arr2.sort()\n",
    "    count = 0\n",
    "    for i in arr1:\n",
    "        x = nearestIndex(arr2,i)\n",
    "        if x<0 :\n",
    "            count += 1 if arr2[0]-i>d else 0\n",
    "        elif x>=len(arr2)-1:\n",
    "            count += 1 if i-arr2[-1]>d else 0\n",
    "        else:\n",
    "            count += 1 if min(i-arr2[x], arr2[x+1]-i)>d else 0\n",
    "    return count"
   ]
  },
  {
   "cell_type": "code",
   "execution_count": 12,
   "id": "2b1cb81a",
   "metadata": {},
   "outputs": [
    {
     "data": {
      "text/plain": [
       "2"
      ]
     },
     "execution_count": 12,
     "metadata": {},
     "output_type": "execute_result"
    }
   ],
   "source": [
    "arr1 = [4,5,8]\n",
    "arr2 = [10,9,1,8]\n",
    "d = 2\n",
    "findTheDistanceValue(arr1, arr2, d)"
   ]
  },
  {
   "cell_type": "markdown",
   "id": "1f2a5a46",
   "metadata": {},
   "source": [
    "### Question 6 <a name='6'></a>\n",
    "Given an integer array nums of length n where all the integers of nums are in the range [1, n] and each integer appears **once** or **twice**, return *an array of all the integers that appears **twice***.\n",
    "\n",
    "You must write an algorithm that runs in O(n) time and uses only constant extra space."
   ]
  },
  {
   "cell_type": "code",
   "execution_count": 13,
   "id": "8f66ae62",
   "metadata": {},
   "outputs": [],
   "source": [
    "def findDuplicates(nums: list[int]) -> list[int]:\n",
    "    x = dict()\n",
    "    for i in nums:\n",
    "        if i not in x.keys():\n",
    "            x[i]=1\n",
    "        else:\n",
    "            x[i]+=1\n",
    "    result = []\n",
    "    for i in x.keys():\n",
    "        if x[i]==2:\n",
    "            result.append(i)\n",
    "    return result"
   ]
  },
  {
   "cell_type": "code",
   "execution_count": 14,
   "id": "f99f87a9",
   "metadata": {},
   "outputs": [
    {
     "data": {
      "text/plain": [
       "[3, 2]"
      ]
     },
     "execution_count": 14,
     "metadata": {},
     "output_type": "execute_result"
    }
   ],
   "source": [
    "nums = [4,3,2,7,8,2,3,1]\n",
    "findDuplicates(nums)"
   ]
  },
  {
   "cell_type": "markdown",
   "id": "a38bb8d1",
   "metadata": {},
   "source": [
    "### Question 7 <a name='7'></a>\n",
    "Suppose an array of length n sorted in ascending order is **rotated** between 1 and n times. For example, the array nums = [0,1,2,4,5,6,7] might become:\n",
    "\n",
    "- [4,5,6,7,0,1,2] if it was rotated 4 times.\n",
    "- [0,1,2,4,5,6,7] if it was rotated 7 times.\n",
    "\n",
    "Notice that **rotating** an array [a[0], a[1], a[2], ..., a[n-1]] 1 time results in the array [a[n-1], a[0], a[1], a[2], ..., a[n-2]].\n",
    "\n",
    "Given the sorted rotated array nums of **unique** elements, return *the minimum element of this array*.\n",
    "\n",
    "You must write an algorithm that runs in O(log n) time."
   ]
  },
  {
   "cell_type": "code",
   "execution_count": 15,
   "id": "ff9ca0c2",
   "metadata": {},
   "outputs": [],
   "source": [
    "def findMin(nums: list[int]) -> int:\n",
    "    def findRotation(nums, start, end):\n",
    "        if nums[start]<nums[end]:\n",
    "            return nums[start]\n",
    "        mid = (start+end)//2\n",
    "#         print(\"start: {}, mid: {}, end: {}\".format(start,mid,end))\n",
    "        if nums[mid]<nums[mid+1] and nums[mid-1]>nums[mid]:\n",
    "            return nums[mid]\n",
    "        elif nums[mid]>nums[start]:\n",
    "            return findRotation(nums,mid+1,end)\n",
    "        elif nums[mid]<nums[end]:\n",
    "            return findRotation(nums,start,mid)\n",
    "    if len(nums)<=1:\n",
    "        return nums[0]\n",
    "    if nums[0]<nums[-1]:\n",
    "        return nums[0]\n",
    "    if nums[-2]>nums[-1]:\n",
    "        return nums[-1]\n",
    "    return findRotation(nums, 0, len(nums)-1)"
   ]
  },
  {
   "cell_type": "code",
   "execution_count": 16,
   "id": "c06b1ca3",
   "metadata": {},
   "outputs": [
    {
     "data": {
      "text/plain": [
       "1"
      ]
     },
     "execution_count": 16,
     "metadata": {},
     "output_type": "execute_result"
    }
   ],
   "source": [
    "nums = [3,4,5,1,2]\n",
    "findMin(nums)"
   ]
  },
  {
   "cell_type": "code",
   "execution_count": 17,
   "id": "9dd79ea2",
   "metadata": {},
   "outputs": [
    {
     "data": {
      "text/plain": [
       "1"
      ]
     },
     "execution_count": 17,
     "metadata": {},
     "output_type": "execute_result"
    }
   ],
   "source": [
    "nums = [3,4,5,1]\n",
    "findMin(nums)"
   ]
  },
  {
   "cell_type": "code",
   "execution_count": 18,
   "id": "8e9077a3",
   "metadata": {},
   "outputs": [
    {
     "data": {
      "text/plain": [
       "0"
      ]
     },
     "execution_count": 18,
     "metadata": {},
     "output_type": "execute_result"
    }
   ],
   "source": [
    "nums = [4,5,6,7,0,1,2]\n",
    "findMin(nums)"
   ]
  },
  {
   "cell_type": "markdown",
   "id": "3eb3066b",
   "metadata": {},
   "source": [
    "### Question 8 <a name='8'></a>\n",
    "An integer array original is transformed into a **doubled** array changed by appending **twice the value** of every element in original, and then randomly **shuffling** the resulting array.\n",
    "\n",
    "Given an array changed, return original *if* changed *is a **doubled** array. If* changed *is not a **doubled** array, return an empty array. The elements in* original *may be returned in **any** order*."
   ]
  },
  {
   "cell_type": "code",
   "execution_count": 19,
   "id": "43a7a1c2",
   "metadata": {},
   "outputs": [],
   "source": [
    "def findOriginalArray(changed: list[int]) -> list[int]:\n",
    "    n = len(changed)\n",
    "    access = dict()\n",
    "    access[0] = 0\n",
    "    for i in changed:\n",
    "        if i not in access.keys():\n",
    "            access[i]=1\n",
    "        else:\n",
    "            access[i]+=1\n",
    "    print(access)\n",
    "    result = []\n",
    "    for i in sorted(changed):\n",
    "        if (2*i) in access.keys() and access[i]>0 and access[2*i]>0 and i!=0:\n",
    "            result.append(i)\n",
    "            access[i*2]-=1\n",
    "            access[i]-=1\n",
    "    if access[0]%2==0:\n",
    "        result.extend([0 for _ in range(access[0]//2)])\n",
    "    else:\n",
    "        return []\n",
    "    print(result)\n",
    "    if len(result)*2==n:\n",
    "        return result\n",
    "    else:\n",
    "        return []"
   ]
  },
  {
   "cell_type": "code",
   "execution_count": 20,
   "id": "028f0efc",
   "metadata": {},
   "outputs": [
    {
     "name": "stdout",
     "output_type": "stream",
     "text": [
      "{0: 0, 1: 1, 3: 1, 4: 1, 2: 1, 6: 1, 8: 1}\n",
      "[1, 3, 4]\n"
     ]
    },
    {
     "data": {
      "text/plain": [
       "[1, 3, 4]"
      ]
     },
     "execution_count": 20,
     "metadata": {},
     "output_type": "execute_result"
    }
   ],
   "source": [
    "changed = [1,3,4,2,6,8]\n",
    "findOriginalArray(changed)"
   ]
  }
 ],
 "metadata": {
  "kernelspec": {
   "display_name": "Python 3 (ipykernel)",
   "language": "python",
   "name": "python3"
  },
  "language_info": {
   "codemirror_mode": {
    "name": "ipython",
    "version": 3
   },
   "file_extension": ".py",
   "mimetype": "text/x-python",
   "name": "python",
   "nbconvert_exporter": "python",
   "pygments_lexer": "ipython3",
   "version": "3.9.15"
  }
 },
 "nbformat": 4,
 "nbformat_minor": 5
}
