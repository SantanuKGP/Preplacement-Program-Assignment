{
 "cells": [
  {
   "cell_type": "markdown",
   "id": "f1027957",
   "metadata": {},
   "source": [
    "## List of Questions\n",
    "\n",
    "1. [Question 1](#1)\n",
    "1. [Question 2](#2)\n",
    "1. [Question 3](#3)\n",
    "1. [Question 4](#4)\n",
    "1. [Question 5](#5)\n",
    "1. [Question 6](#6)\n",
    "1. [Question 7](#7)\n",
    "1. [Question 8](#8)\n"
   ]
  },
  {
   "cell_type": "markdown",
   "id": "cd13ccf2",
   "metadata": {},
   "source": [
    "Question 1<a name=\"1\"> </a>\n",
    "\n",
    "Given an integer array nums of 2n integers, group these integers into n pairs (a1, b1), (a2, b2),..., (an, bn) such that the sum of min(ai, bi) for all i is maximized. Return the maximized sum."
   ]
  },
  {
   "cell_type": "code",
   "execution_count": 1,
   "id": "59404127",
   "metadata": {},
   "outputs": [],
   "source": [
    "def maximized_sum(nums:list[int])-> int:\n",
    "    nums.sort()\n",
    "    return  sum(nums[0::2])"
   ]
  },
  {
   "cell_type": "code",
   "execution_count": 2,
   "id": "e520b33a",
   "metadata": {},
   "outputs": [
    {
     "data": {
      "text/plain": [
       "4"
      ]
     },
     "execution_count": 2,
     "metadata": {},
     "output_type": "execute_result"
    }
   ],
   "source": [
    "nums = [1,4,3,2]\n",
    "maximized_sum(nums)"
   ]
  },
  {
   "cell_type": "markdown",
   "id": "64e6ad79",
   "metadata": {},
   "source": [
    "Question 2 <a name=\"2\"> </a>\n",
    "\n",
    "Alice has n candies, where the ith candy is of type candyType[i]. Alice noticed that she started to gain weight, so she visited a doctor. \n",
    "The doctor advised Alice to only eat n / 2 of the candies she has (n is always even). Alice likes her candies very much, and she wants to eat the maximum number of different types of candies while still following the doctor's advice. \n",
    "Given the integer array candyType of length n, return the maximum number of different types of candies she can eat if she only eats n / 2 of them."
   ]
  },
  {
   "cell_type": "code",
   "execution_count": 3,
   "id": "4b2b0dae",
   "metadata": {},
   "outputs": [],
   "source": [
    "def distributeCandies(candyType: list[int]) -> int:\n",
    "    return min(len(set(candyType)), len(candyType)//2)"
   ]
  },
  {
   "cell_type": "code",
   "execution_count": 4,
   "id": "15b5b6cc",
   "metadata": {},
   "outputs": [
    {
     "data": {
      "text/plain": [
       "3"
      ]
     },
     "execution_count": 4,
     "metadata": {},
     "output_type": "execute_result"
    }
   ],
   "source": [
    "candyType = [1,1,2,2,3,3]\n",
    "distributeCandies(candyType)"
   ]
  },
  {
   "cell_type": "markdown",
   "id": "63f0efac",
   "metadata": {},
   "source": [
    "Question 3 <a name=\"3\"> </a>\n",
    "\n",
    "We define a harmonious array as an array where the difference between its maximum value\n",
    "and its minimum value is exactly 1.\n",
    "\n",
    "Given an integer array nums, return the length of its longest harmonious subsequence\n",
    "among all its possible subsequences.\n",
    "\n",
    "A subsequence of an array is a sequence that can be derived from the array by deleting some or no elements without changing the order of the remaining elements."
   ]
  },
  {
   "cell_type": "code",
   "execution_count": 5,
   "id": "8db07908",
   "metadata": {},
   "outputs": [],
   "source": [
    "def findLHS(nums: list[int]) -> int:\n",
    "    freq = dict()\n",
    "    for i in nums:\n",
    "        if i not in freq:\n",
    "            freq[i]=1\n",
    "        else:\n",
    "            freq[i]+=1\n",
    "\n",
    "    max_length = 0\n",
    "    for key in freq:\n",
    "        if key + 1 in freq:\n",
    "            max_length = max(max_length, freq[key] + freq[key+1])\n",
    "\n",
    "    return max_length"
   ]
  },
  {
   "cell_type": "code",
   "execution_count": 6,
   "id": "8e37a46c",
   "metadata": {},
   "outputs": [
    {
     "data": {
      "text/plain": [
       "5"
      ]
     },
     "execution_count": 6,
     "metadata": {},
     "output_type": "execute_result"
    }
   ],
   "source": [
    "nums = [1,3,2,2,5,2,3,7]\n",
    "findLHS(nums)"
   ]
  },
  {
   "cell_type": "markdown",
   "id": "6e51c605",
   "metadata": {},
   "source": [
    "Question 4 <a name=\"4\"> </a>\n",
    "\n",
    "You have a long flowerbed in which some of the plots are planted, and some are not.\n",
    "However, flowers cannot be planted in adjacent plots.\n",
    "Given an integer array flowerbed containing 0's and 1's, where 0 means empty and 1 means not empty, and an integer n, return true if n new flowers can be planted in the flowerbed without violating the no-adjacent-flowers rule and false otherwise.\n"
   ]
  },
  {
   "cell_type": "code",
   "execution_count": 7,
   "id": "de453664",
   "metadata": {},
   "outputs": [],
   "source": [
    "def canPlaceFlowers(flowerbed: list[int], n: int) -> bool:\n",
    "    counter = 1\n",
    "    nums = []\n",
    "    for i in flowerbed:\n",
    "        if i==0:\n",
    "            counter+=1\n",
    "        else:\n",
    "            nums.append(counter)\n",
    "            counter=0\n",
    "    nums.append(counter+1)\n",
    "    if sum(map(lambda x: (x-1)//2 if x!=0 else 0, nums))>=n:\n",
    "        return True\n",
    "    return False"
   ]
  },
  {
   "cell_type": "code",
   "execution_count": 8,
   "id": "3062eb74",
   "metadata": {},
   "outputs": [],
   "source": [
    "flowerbed = [1,0,0,0,1] \n",
    "n = 1"
   ]
  },
  {
   "cell_type": "code",
   "execution_count": 9,
   "id": "059d1345",
   "metadata": {},
   "outputs": [
    {
     "data": {
      "text/plain": [
       "True"
      ]
     },
     "execution_count": 9,
     "metadata": {},
     "output_type": "execute_result"
    }
   ],
   "source": [
    "canPlaceFlowers(flowerbed,n)"
   ]
  },
  {
   "cell_type": "markdown",
   "id": "5276eb3d",
   "metadata": {},
   "source": [
    "Question 5 <a name=\"5\"> </a>\n",
    "\n",
    "Given an integer array nums, find three numbers whose product is maximum and return the maximum product.\n",
    "\n",
    "Example 1:\n",
    "Input: nums = [1,2,3]\n",
    "Output: 6"
   ]
  },
  {
   "cell_type": "code",
   "execution_count": 10,
   "id": "668720ac",
   "metadata": {},
   "outputs": [],
   "source": [
    "def maximumProduct(nums: list[int]) -> int:\n",
    "    nums.sort()\n",
    "    return max(nums[-1]*nums[-2]*nums[-3], nums[0]*nums[1]*nums[-1])"
   ]
  },
  {
   "cell_type": "code",
   "execution_count": 11,
   "id": "0a4414e8",
   "metadata": {},
   "outputs": [
    {
     "data": {
      "text/plain": [
       "6"
      ]
     },
     "execution_count": 11,
     "metadata": {},
     "output_type": "execute_result"
    }
   ],
   "source": [
    "nums = [1,2,3]\n",
    "maximumProduct(nums)"
   ]
  },
  {
   "cell_type": "code",
   "execution_count": 12,
   "id": "d6364186",
   "metadata": {},
   "outputs": [],
   "source": [
    "import sys\n",
    "def maximumProduct(nums: list[int]) -> int:\n",
    "    maxi1, maxi2, maxi2 = -sys.maxsize, -sys.maxsize, -sys.maxsize\n",
    "    mini1, mini2 = sys.maxsize, sys.maxsize\n",
    "    \n",
    "    for i in nums:\n",
    "        if i>maxi1:\n",
    "            maxi3=maxi2\n",
    "            maxi2=maxi1\n",
    "            maxi1=i\n",
    "        elif i>maxi2:\n",
    "            maxi3=maxi2\n",
    "            maxi2=i\n",
    "        elif i>maxi3:\n",
    "            maxi3=i\n",
    "            \n",
    "        if i<mini1:\n",
    "            mini2=mini1\n",
    "            mini1=i\n",
    "        elif i<mini2:\n",
    "            mini2=i\n",
    "    \n",
    "    return max(maxi1*maxi2*maxi3, maxi1*mini1*mini2)"
   ]
  },
  {
   "cell_type": "code",
   "execution_count": 13,
   "id": "a1865664",
   "metadata": {},
   "outputs": [
    {
     "data": {
      "text/plain": [
       "6"
      ]
     },
     "execution_count": 13,
     "metadata": {},
     "output_type": "execute_result"
    }
   ],
   "source": [
    "nums = [1,2,3]\n",
    "maximumProduct(nums)"
   ]
  },
  {
   "cell_type": "markdown",
   "id": "5fdbb36c",
   "metadata": {},
   "source": [
    "Question 6 <a name=\"6\"> </a>\n",
    "\n",
    "Given an array of integers nums which is sorted in ascending order, and an integer target,\n",
    "write a function to search target in nums. If target exists, then return its index. Otherwise,\n",
    "return -1.\n",
    "\n",
    "You must write an algorithm with O(log n) runtime complexity.\n"
   ]
  },
  {
   "cell_type": "code",
   "execution_count": 14,
   "id": "bb766c42",
   "metadata": {},
   "outputs": [],
   "source": [
    "def search(nums,target):\n",
    "    def binarysearch(nums,target,start,end):\n",
    "        if end<start:\n",
    "            return -1\n",
    "        mid = (start+end)//2\n",
    "        if nums[mid]==target:\n",
    "            return mid\n",
    "        elif nums[mid]<target:\n",
    "            return binarysearch(nums,target,mid+1,end)\n",
    "        else:\n",
    "            return binarysearch(nums,target,start,mid-1)\n",
    "    return binarysearch(nums,target,0,len(nums)-1)"
   ]
  },
  {
   "cell_type": "code",
   "execution_count": 15,
   "id": "88538a51",
   "metadata": {},
   "outputs": [],
   "source": [
    "nums = [-1,0,3,5,9,12]\n",
    "target = 9"
   ]
  },
  {
   "cell_type": "code",
   "execution_count": 16,
   "id": "df120fc4",
   "metadata": {},
   "outputs": [
    {
     "data": {
      "text/plain": [
       "4"
      ]
     },
     "execution_count": 16,
     "metadata": {},
     "output_type": "execute_result"
    }
   ],
   "source": [
    "search(nums,target)"
   ]
  },
  {
   "cell_type": "markdown",
   "id": "4a5b7c34",
   "metadata": {},
   "source": [
    "Question 7 <a name=\"7\"> </a>\n",
    "\n",
    "An array is monotonic if it is either monotone increasing or monotone decreasing.\n",
    "\n",
    "An array nums is monotone increasing if for all i <= j, nums[i] <= nums[j]. An array nums is\n",
    "monotone decreasing if for all i <= j, nums[i] >= nums[j].\n",
    "\n",
    "Given an integer array nums, return true if the given array is monotonic, or false otherwise.\n"
   ]
  },
  {
   "cell_type": "code",
   "execution_count": 17,
   "id": "d8863fd2",
   "metadata": {},
   "outputs": [],
   "source": [
    "def isMonotonic(nums: list[int]) -> bool:\n",
    "    count1, count2 = 0, 0\n",
    "    for i in range(1,len(nums)):\n",
    "        if nums[i]<=nums[i-1]:\n",
    "            count1+=1\n",
    "        if nums[i]>=nums[i-1]:\n",
    "            count2+=1\n",
    "    if count1+1==len(nums) or count2+1==len(nums):\n",
    "        return True\n",
    "    return False"
   ]
  },
  {
   "cell_type": "code",
   "execution_count": 18,
   "id": "02fa1c59",
   "metadata": {},
   "outputs": [
    {
     "data": {
      "text/plain": [
       "True"
      ]
     },
     "execution_count": 18,
     "metadata": {},
     "output_type": "execute_result"
    }
   ],
   "source": [
    "nums = [1,2,2,3]\n",
    "isMonotonic(nums)"
   ]
  },
  {
   "cell_type": "markdown",
   "id": "9da41eb5",
   "metadata": {},
   "source": [
    "Question 8 <a name=\"8\"> </a>\n",
    "\n",
    "You are given an integer array nums and an integer k.\n",
    "\n",
    "In one operation, you can choose any index i where 0 <= i < nums.length() and change nums[i] to nums[i] + x where x is an integer from the range [-k, k]. You can apply this operation at most once for each index i.\n",
    "\n",
    "The score of nums is the difference between the maximum and minimum elements in nums.\n",
    "\n",
    "Return the minimum score of nums after applying the mentioned operation at most once for each index in it.\n"
   ]
  },
  {
   "cell_type": "code",
   "execution_count": 19,
   "id": "082893a2",
   "metadata": {},
   "outputs": [],
   "source": [
    "def smallestRange(nums,k):\n",
    "    if len(nums)==1:\n",
    "        return 0\n",
    "    a = max(nums)\n",
    "    b = min(nums)\n",
    "    if a-b>2*k:\n",
    "        return a-b-2*k\n",
    "    return 0"
   ]
  },
  {
   "cell_type": "code",
   "execution_count": 20,
   "id": "ea2b6140",
   "metadata": {},
   "outputs": [
    {
     "data": {
      "text/plain": [
       "1"
      ]
     },
     "execution_count": 20,
     "metadata": {},
     "output_type": "execute_result"
    }
   ],
   "source": [
    "nums = [1,3,6]\n",
    "k = 2\n",
    "smallestRange(nums, k)"
   ]
  }
 ],
 "metadata": {
  "kernelspec": {
   "display_name": "Python 3 (ipykernel)",
   "language": "python",
   "name": "python3"
  },
  "language_info": {
   "codemirror_mode": {
    "name": "ipython",
    "version": 3
   },
   "file_extension": ".py",
   "mimetype": "text/x-python",
   "name": "python",
   "nbconvert_exporter": "python",
   "pygments_lexer": "ipython3",
   "version": "3.9.15"
  }
 },
 "nbformat": 4,
 "nbformat_minor": 5
}
