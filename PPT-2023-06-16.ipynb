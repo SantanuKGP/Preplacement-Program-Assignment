{
 "cells": [
  {
   "cell_type": "markdown",
   "id": "08fb38a1",
   "metadata": {},
   "source": [
    "\n",
    "**Q1.** Given an array of integers nums and an integer target, return indices of the two numbers such that they add up to target.\n",
    "\n",
    "You may assume that each input would have exactly one solution, and you may not use the same element twice.\n",
    "\n",
    "You can return the answer in any order.\n"
   ]
  },
  {
   "cell_type": "code",
   "execution_count": 6,
   "id": "0ac5c29b",
   "metadata": {},
   "outputs": [],
   "source": [
    "def two_numbers(nums: list[int],target: int)-> list[int]:\n",
    "    m = dict()\n",
    "    for (i,j) in enumerate(nums):\n",
    "        if j not in m.keys():\n",
    "            m[target-j]=i\n",
    "        else:\n",
    "            return [m[j], i]\n",
    "    return []"
   ]
  },
  {
   "cell_type": "code",
   "execution_count": 7,
   "id": "6aed038c",
   "metadata": {},
   "outputs": [
    {
     "data": {
      "text/plain": [
       "[0, 1]"
      ]
     },
     "execution_count": 7,
     "metadata": {},
     "output_type": "execute_result"
    }
   ],
   "source": [
    "two_numbers([2,7,11,15],9)"
   ]
  },
  {
   "cell_type": "markdown",
   "id": "0a4922bb",
   "metadata": {},
   "source": [
    "**Q2.** Given an integer array nums and an integer val, remove all occurrences of val in nums in-place. The order of the elements may be changed. Then return the number of elements in nums which are not equal to val.\n",
    "\n",
    "Consider the number of elements in nums which are not equal to val be k, to get accepted, you need to do the following things:\n",
    "\n",
    "- Change the array nums such that the first k elements of nums contain the elements which are not equal to val. The remaining elements of nums are not important as well as the size of nums.\n",
    "- Return k."
   ]
  },
  {
   "cell_type": "code",
   "execution_count": 46,
   "id": "99754712",
   "metadata": {},
   "outputs": [],
   "source": [
    "def remove_occurance(nums,val):\n",
    "    left=0\n",
    "    right=0\n",
    "    while right<len(nums):\n",
    "        if nums[right]==val:\n",
    "            right+=1\n",
    "        else:\n",
    "            nums[left]=nums[right]\n",
    "            left+=1\n",
    "            right+=1\n",
    "    nums[:]=nums\n",
    "    return left"
   ]
  },
  {
   "cell_type": "code",
   "execution_count": 52,
   "id": "13d6510e",
   "metadata": {},
   "outputs": [
    {
     "data": {
      "text/plain": [
       "2"
      ]
     },
     "execution_count": 52,
     "metadata": {},
     "output_type": "execute_result"
    }
   ],
   "source": [
    "nums = [3,2,2,3] \n",
    "val = 3\n",
    "remove_occurance(nums,val)"
   ]
  },
  {
   "cell_type": "code",
   "execution_count": 53,
   "id": "ae33fe2d",
   "metadata": {},
   "outputs": [
    {
     "data": {
      "text/plain": [
       "[2, 2, 2, 3]"
      ]
     },
     "execution_count": 53,
     "metadata": {},
     "output_type": "execute_result"
    }
   ],
   "source": [
    "nums"
   ]
  },
  {
   "cell_type": "code",
   "execution_count": 54,
   "id": "5659f5c8",
   "metadata": {},
   "outputs": [],
   "source": [
    "def remove_occurance(nums,val):\n",
    "    left=0\n",
    "    right=0\n",
    "    while right<len(nums):\n",
    "        if nums[right]==val:\n",
    "            right+=1\n",
    "        else:\n",
    "            nums[left]=nums[right]\n",
    "            left+=1\n",
    "            right+=1\n",
    "    nums[:]=nums[:left]\n",
    "    return left"
   ]
  },
  {
   "cell_type": "code",
   "execution_count": 57,
   "id": "137a231b",
   "metadata": {},
   "outputs": [
    {
     "data": {
      "text/plain": [
       "2"
      ]
     },
     "execution_count": 57,
     "metadata": {},
     "output_type": "execute_result"
    }
   ],
   "source": [
    "nums = [3,2,2,3] \n",
    "remove_occurance(nums,val)"
   ]
  },
  {
   "cell_type": "code",
   "execution_count": 58,
   "id": "c842086f",
   "metadata": {},
   "outputs": [
    {
     "data": {
      "text/plain": [
       "[2, 2]"
      ]
     },
     "execution_count": 58,
     "metadata": {},
     "output_type": "execute_result"
    }
   ],
   "source": [
    "nums"
   ]
  },
  {
   "cell_type": "markdown",
   "id": "b90c6920",
   "metadata": {},
   "source": [
    "**Q3.** Given a sorted array of distinct integers and a target value, return the index if the target is found. If not, return the index where it would be if it were inserted in order.\n",
    "\n",
    "You must write an algorithm with O(log n) runtime complexity."
   ]
  },
  {
   "cell_type": "code",
   "execution_count": 24,
   "id": "a213e4b1",
   "metadata": {},
   "outputs": [],
   "source": [
    "def get_index(nums,target):    \n",
    "    def find_index(nums, target,start,end):\n",
    "        if start> end:\n",
    "            return start\n",
    "        mid=(start+end)//2\n",
    "        if nums[mid]==target:\n",
    "            return mid\n",
    "        elif nums[mid]<target:\n",
    "            return find_index(nums,target,mid+1,end)\n",
    "        else:\n",
    "            return find_index(nums,target,start,mid-1)\n",
    "    return find_index(nums, target,0,len(nums)-1)"
   ]
  },
  {
   "cell_type": "code",
   "execution_count": 25,
   "id": "c20d783b",
   "metadata": {},
   "outputs": [
    {
     "data": {
      "text/plain": [
       "2"
      ]
     },
     "execution_count": 25,
     "metadata": {},
     "output_type": "execute_result"
    }
   ],
   "source": [
    "nums=[1,3,5,6]\n",
    "target = 5\n",
    "get_index(nums, target)"
   ]
  },
  {
   "cell_type": "code",
   "execution_count": 26,
   "id": "d3db3c3e",
   "metadata": {},
   "outputs": [
    {
     "data": {
      "text/plain": [
       "4"
      ]
     },
     "execution_count": 26,
     "metadata": {},
     "output_type": "execute_result"
    }
   ],
   "source": [
    "nums=[1,3,3,3,6,7,8]\n",
    "target = 5\n",
    "get_index(nums, target)"
   ]
  },
  {
   "cell_type": "markdown",
   "id": "9bbaefbb",
   "metadata": {},
   "source": [
    "**Q4.** You are given a large integer represented as an integer array digits, where each digits[i] is the ith digit of the integer. The digits are ordered from most significant to least significant in left-to-right order. The large integer does not contain any leading 0's.\n",
    "\n",
    "Increment the large integer by one and return the resulting array of digits."
   ]
  },
  {
   "cell_type": "code",
   "execution_count": 67,
   "id": "89fe8d79",
   "metadata": {},
   "outputs": [],
   "source": [
    "def next_int(num):\n",
    "    result=[]\n",
    "    curr = 0\n",
    "    for (i,j) in enumerate(reversed(num)):\n",
    "        if i==0:\n",
    "            result.append((j+curr+1)%10)\n",
    "            curr=(j+curr+1)//10\n",
    "        else:\n",
    "            result.append((j+curr)%10)\n",
    "            curr=(j+curr)//10\n",
    "        if curr==0:\n",
    "            result.extend(num[::-1][i+1:])\n",
    "            break\n",
    "    if curr==1:\n",
    "        result.append(1)\n",
    "    result.reverse()\n",
    "    return result"
   ]
  },
  {
   "cell_type": "code",
   "execution_count": 68,
   "id": "eb299678",
   "metadata": {},
   "outputs": [
    {
     "data": {
      "text/plain": [
       "[1, 2, 4]"
      ]
     },
     "execution_count": 68,
     "metadata": {},
     "output_type": "execute_result"
    }
   ],
   "source": [
    "digits = [1,2,3]\n",
    "next_int(digits)"
   ]
  },
  {
   "cell_type": "code",
   "execution_count": 69,
   "id": "c6be54f6",
   "metadata": {},
   "outputs": [
    {
     "data": {
      "text/plain": [
       "[1, 0, 0, 0]"
      ]
     },
     "execution_count": 69,
     "metadata": {},
     "output_type": "execute_result"
    }
   ],
   "source": [
    "digits = [9,9,9]\n",
    "next_int(digits)"
   ]
  },
  {
   "cell_type": "markdown",
   "id": "bdc914aa",
   "metadata": {},
   "source": [
    "**Q5.** You are given two integer arrays nums1 and nums2, sorted in non-decreasing order, and two integers m and n, representing the number of elements in nums1 and nums2 respectively.\n",
    "\n",
    "Merge nums1 and nums2 into a single array sorted in non-decreasing order.\n",
    "\n",
    "The final sorted array should not be returned by the function, but instead be stored inside the array nums1. To accommodate this, nums1 has a length of m + n, where the first m elements denote the elements that should be merged, and the last n elements are set to 0 and should be ignored. nums2 has a length of n."
   ]
  },
  {
   "cell_type": "code",
   "execution_count": 74,
   "id": "98e78c1a",
   "metadata": {},
   "outputs": [],
   "source": [
    "def merge(nums1: list[int], nums2: list[int]) -> None:\n",
    "    n = len(nums2)\n",
    "    m = len(nums1)-n\n",
    "    \n",
    "    x = m-1\n",
    "    y = n-1\n",
    "    z = m+n-1\n",
    "    while y>=0:\n",
    "        if x>=0 and nums1[x] > nums2[y]:\n",
    "            nums1[z]=nums1[x]\n",
    "            x -= 1\n",
    "        else:\n",
    "            nums1[z]=nums2[y]\n",
    "            y -= 1\n",
    "        z -= 1\n",
    "    nums1[:]=nums1"
   ]
  },
  {
   "cell_type": "code",
   "execution_count": 75,
   "id": "37e8cddf",
   "metadata": {},
   "outputs": [
    {
     "data": {
      "text/plain": [
       "[1, 2, 2, 3, 5, 6]"
      ]
     },
     "execution_count": 75,
     "metadata": {},
     "output_type": "execute_result"
    }
   ],
   "source": [
    "nums1 = [1,2,3,0,0,0]\n",
    "nums2 = [2,5,6]\n",
    "merge(nums1, nums2)\n",
    "nums1"
   ]
  },
  {
   "cell_type": "markdown",
   "id": "24efba47",
   "metadata": {},
   "source": [
    "**Q6.** Given an integer array nums, return true if any value appears at least twice in the array, and return false if every element is distinct."
   ]
  },
  {
   "cell_type": "code",
   "execution_count": 43,
   "id": "860b6207",
   "metadata": {},
   "outputs": [],
   "source": [
    "def isRepeated(nums):\n",
    "    return len(nums)!=len(set(nums))"
   ]
  },
  {
   "cell_type": "code",
   "execution_count": 44,
   "id": "28f1e104",
   "metadata": {},
   "outputs": [
    {
     "data": {
      "text/plain": [
       "True"
      ]
     },
     "execution_count": 44,
     "metadata": {},
     "output_type": "execute_result"
    }
   ],
   "source": [
    "nums = [1,2,3,1]\n",
    "isRepeated(nums)"
   ]
  },
  {
   "cell_type": "code",
   "execution_count": 45,
   "id": "dd76c3d0",
   "metadata": {},
   "outputs": [
    {
     "data": {
      "text/plain": [
       "False"
      ]
     },
     "execution_count": 45,
     "metadata": {},
     "output_type": "execute_result"
    }
   ],
   "source": [
    "nums = [1,2,3]\n",
    "isRepeated(nums)"
   ]
  },
  {
   "cell_type": "markdown",
   "id": "49b7cc75",
   "metadata": {},
   "source": [
    "**Q7.** Given an integer array nums, move all 0's to the end of it while maintaining the relative order of the nonzero elements.\n",
    "\n",
    "Note that you must do this in-place without making a copy of the array.\n"
   ]
  },
  {
   "cell_type": "code",
   "execution_count": 30,
   "id": "1e79c1d3",
   "metadata": {},
   "outputs": [],
   "source": [
    "def remove_zero(nums):\n",
    "    left=0\n",
    "    right=0\n",
    "    while right<len(nums):\n",
    "        if nums[right]==0:\n",
    "            right+=1\n",
    "        else:\n",
    "            nums[left]=nums[right]\n",
    "            left+=1\n",
    "            right+=1\n",
    "\n",
    "    for i in range(left,len(nums)):\n",
    "        nums[i]=0\n",
    "    return nums"
   ]
  },
  {
   "cell_type": "code",
   "execution_count": 31,
   "id": "3669cb6b",
   "metadata": {},
   "outputs": [
    {
     "data": {
      "text/plain": [
       "[1, 3, 12, 0, 0]"
      ]
     },
     "execution_count": 31,
     "metadata": {},
     "output_type": "execute_result"
    }
   ],
   "source": [
    "nums = [0,1,0,3,12]\n",
    "remove_zero(nums)"
   ]
  },
  {
   "cell_type": "markdown",
   "id": "625e98d0",
   "metadata": {},
   "source": [
    "**Q8.** You have a set of integers s, which originally contains all the numbers from 1 to n. Unfortunately, due to some error, one of the numbers in s got duplicated to another number in the set, which results in repetition of one number and loss of another number.\n",
    "\n",
    "You are given an integer array nums representing the data status of this set after the error.\n",
    "\n",
    "Find the number that occurs twice and the number that is missing and return them in the form of an array.\n"
   ]
  },
  {
   "cell_type": "code",
   "execution_count": 41,
   "id": "32574fba",
   "metadata": {},
   "outputs": [],
   "source": [
    "def find_twice(nums):\n",
    "    n = len(nums)\n",
    "    x = sum(nums) - sum(set(nums))\n",
    "    y = int(n*(n+1)/2)- sum(nums) + x\n",
    "    return (x,y)"
   ]
  },
  {
   "cell_type": "code",
   "execution_count": 42,
   "id": "070ed32f",
   "metadata": {},
   "outputs": [
    {
     "data": {
      "text/plain": [
       "(2, 3)"
      ]
     },
     "execution_count": 42,
     "metadata": {},
     "output_type": "execute_result"
    }
   ],
   "source": [
    "nums = [1,2,2,4]\n",
    "find_twice(nums)"
   ]
  }
 ],
 "metadata": {
  "kernelspec": {
   "display_name": "Python 3 (ipykernel)",
   "language": "python",
   "name": "python3"
  },
  "language_info": {
   "codemirror_mode": {
    "name": "ipython",
    "version": 3
   },
   "file_extension": ".py",
   "mimetype": "text/x-python",
   "name": "python",
   "nbconvert_exporter": "python",
   "pygments_lexer": "ipython3",
   "version": "3.9.15"
  }
 },
 "nbformat": 4,
 "nbformat_minor": 5
}
