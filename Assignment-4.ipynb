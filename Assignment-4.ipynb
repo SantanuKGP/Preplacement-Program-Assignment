{
 "cells": [
  {
   "cell_type": "markdown",
   "id": "4d7e3b5e",
   "metadata": {},
   "source": [
    "## Questions\n",
    "\n",
    "- [Question 1](#1)\n",
    "- [Question 2](#2)\n",
    "- [Question 3](#3)\n",
    "- [Question 4](#4)\n",
    "- [Question 5](#5)\n",
    "- [Question 6](#6)\n",
    "- [Question 7](#7)\n",
    "- [Question 8](#8)"
   ]
  },
  {
   "cell_type": "markdown",
   "id": "4c3465d5",
   "metadata": {},
   "source": [
    "### Question 1 <a name='1'></a>\n",
    "\n",
    "Given three integer arrays arr1, arr2 and arr3 sorted in strictly increasing order, return a sorted array of only the integers that appeared in all three arrays."
   ]
  },
  {
   "cell_type": "code",
   "execution_count": 1,
   "id": "f90d3ac8",
   "metadata": {},
   "outputs": [],
   "source": [
    "def arrayIntersection(arr1, arr2, arr3):\n",
    "    return sorted(list(set(arr1) & set(arr2) & set(arr3)))"
   ]
  },
  {
   "cell_type": "code",
   "execution_count": 2,
   "id": "f0cf88e9",
   "metadata": {},
   "outputs": [
    {
     "data": {
      "text/plain": [
       "[1, 5]"
      ]
     },
     "execution_count": 2,
     "metadata": {},
     "output_type": "execute_result"
    }
   ],
   "source": [
    "arr1 = [1,2,3,4,5]\n",
    "arr2 = [1,2,5,7,9]\n",
    "arr3 = [1,3,4,5,8]\n",
    "arrayIntersection(arr1, arr2, arr3)"
   ]
  },
  {
   "cell_type": "code",
   "execution_count": 3,
   "id": "bd143d22",
   "metadata": {},
   "outputs": [],
   "source": [
    "\"\"\"\n",
    "    It'll work for any array, which is non-increasing also. But first one will not work. \n",
    "\"\"\"\n",
    "def arrayIntersection(arr1, arr2, arr3):\n",
    "    \n",
    "    i=0\n",
    "    j=0\n",
    "    k=0\n",
    "    \n",
    "    result = []\n",
    "    \n",
    "    while i<len(arr1) and j<len(arr2) and k<len(arr3):\n",
    "        \n",
    "        if arr1[i]==arr2[j] and arr2[j]==arr3[k]:\n",
    "            \n",
    "            result.append(arr1[i])\n",
    "            i += 1\n",
    "            j += 1\n",
    "            k += 1\n",
    "            \n",
    "        elif arr1[i]<arr2[j]:\n",
    "            i += 1\n",
    "        \n",
    "        elif arr2[j]<arr3[k]:\n",
    "            j += 1\n",
    "            \n",
    "        elif arr3[k]<arr1[i]:\n",
    "            k += 1\n",
    "            \n",
    "    return result "
   ]
  },
  {
   "cell_type": "code",
   "execution_count": 4,
   "id": "4ee07f4d",
   "metadata": {},
   "outputs": [
    {
     "data": {
      "text/plain": [
       "[1, 5]"
      ]
     },
     "execution_count": 4,
     "metadata": {},
     "output_type": "execute_result"
    }
   ],
   "source": [
    "arrayIntersection(arr1, arr2, arr3)"
   ]
  },
  {
   "cell_type": "markdown",
   "id": "8f354c90",
   "metadata": {},
   "source": [
    "### Question 2 <a name='2'></a>\n",
    "\n",
    "Given two **0-indexed** integer arrays nums1 and nums2, return *a list* answer *of size* 2 *where:*\n",
    "\n",
    "- answer[0] *is a list of all **distinct** integers in* nums1 *which are **not** present in nums2*.\n",
    "- answer[1] *is a list of all **distinct** integers in* nums2 *which are **not** present in nums1*.\n",
    "\n",
    "**Note** that the integers in the lists may be returned in **any** order."
   ]
  },
  {
   "cell_type": "code",
   "execution_count": 5,
   "id": "722c7b90",
   "metadata": {},
   "outputs": [],
   "source": [
    "def findDifference(nums1: list[int], nums2: list[int]) -> list[list[int]]:\n",
    "        return [list(set(nums1).difference(nums2)), list(set(nums2).difference(nums1))]"
   ]
  },
  {
   "cell_type": "code",
   "execution_count": 6,
   "id": "826c8f6b",
   "metadata": {},
   "outputs": [
    {
     "data": {
      "text/plain": [
       "[[1, 3], [4, 6]]"
      ]
     },
     "execution_count": 6,
     "metadata": {},
     "output_type": "execute_result"
    }
   ],
   "source": [
    "nums1 = [1,2,3] \n",
    "nums2 = [2,4,6]\n",
    "findDifference(nums1, nums2)"
   ]
  },
  {
   "cell_type": "code",
   "execution_count": 7,
   "id": "05391a23",
   "metadata": {},
   "outputs": [],
   "source": [
    "def findDifference(nums1: list[int], nums2: list[int]) -> list[list[int]]:\n",
    "        return [list(set(nums1).difference(nums2)), list(set(nums2).difference(nums1))]"
   ]
  },
  {
   "cell_type": "markdown",
   "id": "96b9032c",
   "metadata": {},
   "source": [
    "### Question 3<a name='3'></a>\n",
    "\n",
    "Given a 2D integer array matrix, return *the **transpose** of* matrix.\n",
    "\n",
    "The **transpose** of a matrix is the matrix flipped over its main diagonal, switching the matrix's row and column indices."
   ]
  },
  {
   "cell_type": "code",
   "execution_count": 8,
   "id": "befd5420",
   "metadata": {},
   "outputs": [],
   "source": [
    "def transpose(matrix: list[list[int]]):\n",
    "    \n",
    "    r = len(matrix)\n",
    "    c = len(matrix[0])\n",
    "    transposed = [[-1]*r for i in range(c)]\n",
    "    for i in range(r):\n",
    "        for j in range(c):\n",
    "            transposed[j][i] = matrix[i][j]\n",
    "    return transposed"
   ]
  },
  {
   "cell_type": "code",
   "execution_count": 9,
   "id": "82ea0b7f",
   "metadata": {},
   "outputs": [
    {
     "data": {
      "text/plain": [
       "[[1, 4, 7], [2, 5, 8], [3, 6, 9]]"
      ]
     },
     "execution_count": 9,
     "metadata": {},
     "output_type": "execute_result"
    }
   ],
   "source": [
    "matrix =  [[1,2,3],[4,5,6],[7,8,9]]\n",
    "transpose(matrix)"
   ]
  },
  {
   "cell_type": "code",
   "execution_count": 10,
   "id": "0b449743",
   "metadata": {},
   "outputs": [
    {
     "data": {
      "text/plain": [
       "[[1, 4], [2, 5], [3, 6]]"
      ]
     },
     "execution_count": 10,
     "metadata": {},
     "output_type": "execute_result"
    }
   ],
   "source": [
    "matrix = [[1,2,3],[4,5,6]]\n",
    "transpose(matrix)"
   ]
  },
  {
   "cell_type": "markdown",
   "id": "d89574a1",
   "metadata": {},
   "source": [
    "### Question 4<a name='4'></a>\n",
    "Given an integer array nums of 2n integers, group these integers into n pairs (a1, b1), (a2, b2), ..., (an, bn) such that the sum of min(ai, bi) for all i is maximized. Return the maximized sum."
   ]
  },
  {
   "cell_type": "code",
   "execution_count": 11,
   "id": "64a7f9cf",
   "metadata": {},
   "outputs": [],
   "source": [
    "def arrayPairSum(nums: list[int]) -> int:\n",
    "    nums.sort()\n",
    "    return  sum(nums[0::2])"
   ]
  },
  {
   "cell_type": "code",
   "execution_count": 12,
   "id": "4f5eeb35",
   "metadata": {},
   "outputs": [
    {
     "data": {
      "text/plain": [
       "9"
      ]
     },
     "execution_count": 12,
     "metadata": {},
     "output_type": "execute_result"
    }
   ],
   "source": [
    "nums = [6,2,6,5,1,2]\n",
    "arrayPairSum(nums)"
   ]
  },
  {
   "cell_type": "code",
   "execution_count": 13,
   "id": "9ac003f5",
   "metadata": {},
   "outputs": [
    {
     "data": {
      "text/plain": [
       "4"
      ]
     },
     "execution_count": 13,
     "metadata": {},
     "output_type": "execute_result"
    }
   ],
   "source": [
    "nums = [1,4,3,2]\n",
    "arrayPairSum(nums)"
   ]
  },
  {
   "cell_type": "markdown",
   "id": "f3e8aa17",
   "metadata": {},
   "source": [
    "### Question 5<a name='5'></a>\n",
    "\n",
    "You have n coins and you want to build a staircase with these coins. The staircase consists of k rows where the ith row has exactly i coins. The last row of the staircase **may be** incomplete.\n",
    "\n",
    "Given the integer n, return *the number of **complete rows** of the staircase you will build*.\n"
   ]
  },
  {
   "cell_type": "code",
   "execution_count": 14,
   "id": "8bce5335",
   "metadata": {},
   "outputs": [],
   "source": [
    "def arrangeCoins(n: int) -> int:\n",
    "    l = int((2*n)**0.5)\n",
    "    if l*(l+1)>2*n:\n",
    "        l -= 1\n",
    "    return l"
   ]
  },
  {
   "cell_type": "code",
   "execution_count": 15,
   "id": "3ca88419",
   "metadata": {},
   "outputs": [
    {
     "data": {
      "text/plain": [
       "2"
      ]
     },
     "execution_count": 15,
     "metadata": {},
     "output_type": "execute_result"
    }
   ],
   "source": [
    "arrangeCoins(5)"
   ]
  },
  {
   "cell_type": "code",
   "execution_count": 16,
   "id": "c45dfb63",
   "metadata": {},
   "outputs": [
    {
     "data": {
      "text/plain": [
       "3"
      ]
     },
     "execution_count": 16,
     "metadata": {},
     "output_type": "execute_result"
    }
   ],
   "source": [
    "arrangeCoins(6)"
   ]
  },
  {
   "cell_type": "markdown",
   "id": "352bc675",
   "metadata": {},
   "source": [
    "### Question 6<a name='6'></a>\n",
    "Given an integer array nums sorted in non-decreasing order, return an array of the squares of each number sorted in non-decreasing order"
   ]
  },
  {
   "cell_type": "code",
   "execution_count": 17,
   "id": "c83cd0a3",
   "metadata": {},
   "outputs": [],
   "source": [
    "def sortedSquares(nums: list[int]) -> list[int]:\n",
    "    return sorted(map(lambda x:x**2, nums))"
   ]
  },
  {
   "cell_type": "code",
   "execution_count": 18,
   "id": "ddbd381c",
   "metadata": {},
   "outputs": [
    {
     "data": {
      "text/plain": [
       "[0, 1, 9, 16, 100]"
      ]
     },
     "execution_count": 18,
     "metadata": {},
     "output_type": "execute_result"
    }
   ],
   "source": [
    "nums = [-4,-1,0,3,10]\n",
    "sortedSquares(nums)"
   ]
  },
  {
   "cell_type": "code",
   "execution_count": 19,
   "id": "a435187f",
   "metadata": {},
   "outputs": [],
   "source": [
    "def sortedSquares(nums: list[int]) -> list[int]:\n",
    "    j = -2\n",
    "\n",
    "    for i in range(len(nums)):\n",
    "        if nums[i]>=0:\n",
    "            j = i\n",
    "            break\n",
    "    if j<0:\n",
    "        return list(map(lambda x: x**2, nums))[::-1]\n",
    "    i = j-1\n",
    "    ans = []\n",
    "    while i>=0 and j<len(nums):\n",
    "        if abs(nums[i])<abs(nums[j]):\n",
    "            ans.append(nums[i]**2)\n",
    "            i -= 1\n",
    "        else:\n",
    "            ans.append(nums[j]**2)\n",
    "            j += 1\n",
    "    while i>=0:\n",
    "        ans.append(nums[i]**2)\n",
    "        i -= 1\n",
    "\n",
    "    while j<len(nums):\n",
    "        ans.append(nums[j]**2)\n",
    "        j += 1\n",
    "        \n",
    "    return ans"
   ]
  },
  {
   "cell_type": "code",
   "execution_count": 20,
   "id": "829f4627",
   "metadata": {},
   "outputs": [
    {
     "data": {
      "text/plain": [
       "[0, 1, 9, 16, 100]"
      ]
     },
     "execution_count": 20,
     "metadata": {},
     "output_type": "execute_result"
    }
   ],
   "source": [
    "nums = [-4,-1,0,3,10]\n",
    "sortedSquares(nums)"
   ]
  },
  {
   "cell_type": "markdown",
   "id": "6983b3ab",
   "metadata": {},
   "source": [
    "### Question 7<a name='7'></a>\n",
    "\n",
    "You are given an m x n matrix M initialized with all 0's and an array of operations ops, where ops[i] = [ai, bi] means M[x][y] should be incremented by one for all 0 <= x < ai and 0 <= y < bi.\n",
    "\n",
    "Count and return *the number of maximum integers in the matrix after performing all the operations*\n"
   ]
  },
  {
   "cell_type": "code",
   "execution_count": 21,
   "id": "825d7a50",
   "metadata": {},
   "outputs": [],
   "source": [
    "def maxCount(ops: list[list[int]]):\n",
    "    if len(ops)==0:\n",
    "        return m*n\n",
    "    else:\n",
    "        x,y=min(ops, key= lambda x: x[0])[0], min(ops, key= lambda x: x[1])[1]\n",
    "        return x*y"
   ]
  },
  {
   "cell_type": "code",
   "execution_count": 22,
   "id": "3508fa61",
   "metadata": {},
   "outputs": [
    {
     "data": {
      "text/plain": [
       "2"
      ]
     },
     "execution_count": 22,
     "metadata": {},
     "output_type": "execute_result"
    }
   ],
   "source": [
    "ops = [[16,1],[14,3],[14,2],[4,1],[10,1],[11,1],[8,3],[16,2],[13,1],[8,3],[2,2],[9,1],[3,1],[2,2],[6,3]]\n",
    "maxCount(ops)"
   ]
  },
  {
   "cell_type": "markdown",
   "id": "00367509",
   "metadata": {},
   "source": [
    "### Question 8<a name='8'></a>\n",
    "Given the array nums consisting of 2n elements in the form [x1,x2,...,xn,y1,y2,...,yn].\n",
    "\n",
    "*Return the array in the form* [x1,y1,x2,y2,...,xn,yn]."
   ]
  },
  {
   "cell_type": "code",
   "execution_count": 23,
   "id": "c1a80e59",
   "metadata": {},
   "outputs": [],
   "source": [
    "def shuffle(nums: list[int], n: int) -> list[int]:\n",
    "    x = list(zip(nums[:n],nums[n:]))\n",
    "    return sum(x, ())"
   ]
  },
  {
   "cell_type": "code",
   "execution_count": 24,
   "id": "800fdcaa",
   "metadata": {},
   "outputs": [
    {
     "data": {
      "text/plain": [
       "(2, 3, 5, 4, 1, 7)"
      ]
     },
     "execution_count": 24,
     "metadata": {},
     "output_type": "execute_result"
    }
   ],
   "source": [
    "nums = [2,5,1,3,4,7]\n",
    "shuffle(nums, len(nums)//2)"
   ]
  }
 ],
 "metadata": {
  "kernelspec": {
   "display_name": "Python 3 (ipykernel)",
   "language": "python",
   "name": "python3"
  },
  "language_info": {
   "codemirror_mode": {
    "name": "ipython",
    "version": 3
   },
   "file_extension": ".py",
   "mimetype": "text/x-python",
   "name": "python",
   "nbconvert_exporter": "python",
   "pygments_lexer": "ipython3",
   "version": "3.9.15"
  }
 },
 "nbformat": 4,
 "nbformat_minor": 5
}
